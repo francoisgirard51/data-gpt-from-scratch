{
 "cells": [
  {
   "cell_type": "markdown",
   "metadata": {},
   "source": [
    "# GPT from scratch"
   ]
  },
  {
   "cell_type": "markdown",
   "metadata": {},
   "source": [
    "We have a secret for you. It's something you probably already know but everyone is too afraid to say:\n"
   ]
  },
  {
   "cell_type": "markdown",
   "metadata": {},
   "source": [
    "Nobody likes writing ticket descriptions 🙄\n"
   ]
  },
  {
   "cell_type": "markdown",
   "metadata": {},
   "source": [
    "In this challenge, you will be building your own GPT-style model that generates realistic-sounding tickets so you won't have to spend any more time writing all those long descriptions out for your hard-working TAs (you can just generate one here and paste it across!) 😮‍💨\n",
    "\n",
    "<img src = \"https://i.imgflip.com/1kszga.jpg\" width = \"300px\">\n",
    "\n",
    "This notebook will cover both theory and practice. Really take the time to understand __why__ we're doing what we're doing rather than just implementing the challenges. \n",
    "\n",
    "👉👉👉 This is the biggest challenge of the day and for good reason - we'll be solidifying all of the core concepts from the lecture, so don't stress if it takes you most of the day. 👈 👈 👈 \n",
    "\n",
    "We're going to go through each step of this slowly and methodically, but the broad strokes look like this:\n",
    "\n",
    "### 1️⃣ Data Preprocessing 📊\n",
    "\n",
    "Read in our tickets data, clean it and split it into training, testing, and validation tensorflow datasets. 🧹🔀\n",
    "\n",
    "### 2️⃣ Vocabulary Creation 📚\n",
    "\n",
    "To start, we'll be using a simplistic TextVectorization layer from TensorFlow with a custom text standardization function to turn our models into tokens. We're also going to make sure we can translate between our tokens and our original text nice and smoothly. 🗂️\n",
    "\n",
    "### 3️⃣ Model Creation and Training 🔨\n",
    "\n",
    "Define the architecture of the text generation model using a Transformer-based approach. This is where a lot of the heavy lifting will get done 🏗️🧠\n",
    "\n",
    "### 4️⃣ Text Generation 📝🔮\n",
    "\n",
    "Finally, we'll define a callback function to generate sample text at the end of each epoch. Let your model's creativity shine! ✨🌟\n",
    "\n",
    "\n",
    "### 🎉5️⃣ 🎉  Freestyle \n",
    "By now you'll be a pro at NLP, so in this section, you'' have the opportunity to take the code you've written, tidy it up and and then you can start playing around with your own datasets! Get ready to explore and have some fun!"
   ]
  },
  {
   "cell_type": "markdown",
   "metadata": {},
   "source": [
    "## Enough preamble! Let's get cracking!"
   ]
  },
  {
   "cell_type": "markdown",
   "metadata": {},
   "source": [
    "You'll need this library a little later so for now, run the cell below to install the `keras_nlp` library:"
   ]
  },
  {
   "cell_type": "code",
   "execution_count": null,
   "metadata": {},
   "outputs": [],
   "source": [
    "!pip install keras-nlp"
   ]
  },
  {
   "cell_type": "markdown",
   "metadata": {
    "tags": []
   },
   "source": [
    "## 1️⃣ Data Preprocessing 📊¶"
   ]
  },
  {
   "cell_type": "markdown",
   "metadata": {},
   "source": [
    "Run the cell below to download this ```tickets.txt``` file from this [link](https://wagon-public-datasets.s3.amazonaws.com/data-science-images/lectures/Transformers/tickets.txt) and put it into a ```data/``` folder. Then load the txt file into a variable - the variable will just be one long string:"
   ]
  },
  {
   "cell_type": "code",
   "execution_count": null,
   "metadata": {},
   "outputs": [],
   "source": [
    "!mkdir -p data\n",
    "!curl https://wagon-public-datasets.s3.amazonaws.com/data-science-images/lectures/Transformers/tickets.txt > data/tickets.txt\n",
    "with open(\"data/tickets.txt\", \"r\") as f:\n",
    "    text = f.read()"
   ]
  },
  {
   "cell_type": "markdown",
   "metadata": {},
   "source": [
    "Print the first 1000 characters of the string."
   ]
  },
  {
   "cell_type": "code",
   "execution_count": null,
   "metadata": {},
   "outputs": [],
   "source": [
    "pass  # YOUR CODE HERE"
   ]
  },
  {
   "cell_type": "markdown",
   "metadata": {},
   "source": [
    "Each ticket is broken up by some dashes. Split the text on the dashes. "
   ]
  },
  {
   "cell_type": "code",
   "execution_count": null,
   "metadata": {},
   "outputs": [],
   "source": [
    "pass  # YOUR CODE HERE"
   ]
  },
  {
   "cell_type": "markdown",
   "metadata": {},
   "source": [
    "Our first task is to add \" EOS \" to the end of each of the strings we've created. This will let our model know that it's hit the end of the sentence."
   ]
  },
  {
   "cell_type": "code",
   "execution_count": null,
   "metadata": {},
   "outputs": [],
   "source": [
    "pass  # YOUR CODE HERE"
   ]
  },
  {
   "cell_type": "markdown",
   "metadata": {},
   "source": [
    "Check how many tickets you have and how long the longest ticket description (__in words - not characters__)  is. Save that maximum length as a variable `max_len`."
   ]
  },
  {
   "cell_type": "code",
   "execution_count": null,
   "metadata": {},
   "outputs": [],
   "source": [
    "pass  # YOUR CODE HERE"
   ]
  },
  {
   "cell_type": "code",
   "execution_count": null,
   "metadata": {},
   "outputs": [],
   "source": [
    "print(f\"There are {len(tickets)} tickets in the dataset\")\n",
    "print(f\"The longest ticket description is {max_len} words (including the 'EOS' word)\")"
   ]
  },
  {
   "cell_type": "markdown",
   "metadata": {},
   "source": [
    "Next up we need to convert our nicely prepared collections of sentences into tokens. To do that we are going to use a simple [TextVectorization](https://www.tensorflow.org/api_docs/python/tf/keras/layers/TextVectorization) layer. \n",
    "\n",
    "We'll talk more about advanced Tokenizing techniques later but - for now - let's instantiate a tokenizer layer called `tokenize_layer` that \"standardizes\" all of our sentences to lower case (we won't worry about punctuation for the time being), outputs integers and has a maximum sentence length equal to our ```max_len```. Check the docs or docstrings for guidance on how to achieve these steps"
   ]
  },
  {
   "cell_type": "code",
   "execution_count": null,
   "metadata": {},
   "outputs": [],
   "source": [
    "from tensorflow.keras.layers import TextVectorization\n",
    "\n",
    "pass  # YOUR CODE HERE"
   ]
  },
  {
   "cell_type": "markdown",
   "metadata": {},
   "source": [
    "Once we've instantiated, we need to call the ```adapt()``` method of the layer to our sentences (i.e. pass in our our ```tickets``` variable into the `vectorize_layer.adapt()` function). When this layer is adapted, it will analyze the dataset, determine the frequency of individual string values, and create a vocabulary from them. \n",
    "\n",
    "Then we can investigate our vocabulary using the [```get_vocabulary()```](https://www.tensorflow.org/api_docs/python/tf/keras/layers/TextVectorization#get_vocabulary) method.\n",
    "\n",
    "Assign the list produced to a variable called `vocab` and take a look at the first 10 in the list."
   ]
  },
  {
   "cell_type": "code",
   "execution_count": null,
   "metadata": {},
   "outputs": [],
   "source": [
    "pass  # YOUR CODE HERE"
   ]
  },
  {
   "cell_type": "code",
   "execution_count": null,
   "metadata": {},
   "outputs": [],
   "source": [
    "vocab_size = \"### YOUR CODE HERE\"\n"
   ]
  },
  {
   "cell_type": "code",
   "execution_count": null,
   "metadata": {},
   "outputs": [],
   "source": [
    "from nbresult import ChallengeResult\n",
    "\n",
    "result = ChallengeResult('vocab',\n",
    "    vocab_size = vocab_size\n",
    ")\n",
    "\n",
    "result.write()\n",
    "print(result.check())"
   ]
  },
  {
   "cell_type": "markdown",
   "metadata": {},
   "source": [
    "Execute the following cell to create dictionary that will allow you to translate your tokens back to words:\n",
    "    \n"
   ]
  },
  {
   "cell_type": "code",
   "execution_count": null,
   "metadata": {},
   "outputs": [],
   "source": [
    "index_lookup = dict(zip(range(len(vocab)), vocab))"
   ]
  },
  {
   "cell_type": "markdown",
   "metadata": {},
   "source": [
    "Try calling vectorizer layer on an example sentence of your choosing. (i.e. running `vectorize_layer(\"Try me\")`). Ensure you get a tensor out on the other side, filled with integers!"
   ]
  },
  {
   "cell_type": "code",
   "execution_count": null,
   "metadata": {},
   "outputs": [],
   "source": [
    "pass  # YOUR CODE HERE"
   ]
  },
  {
   "cell_type": "markdown",
   "metadata": {},
   "source": [
    "Then ensure you can translate the tokens back into words with your dictionary\n",
    "<details >\n",
    "<summary>Click for hint 👇</summary>\n",
    "<br>\n",
    "The vectorizer outputs a tensor which you'll need to convert back to a list of numbers if you want to loop through them. Try using <code>.numpy().tolist()</code> on your tensor.\n",
    "</details>"
   ]
  },
  {
   "cell_type": "code",
   "execution_count": null,
   "metadata": {},
   "outputs": [],
   "source": [
    "pass  # YOUR CODE HERE"
   ]
  },
  {
   "cell_type": "markdown",
   "metadata": {},
   "source": [
    "You may get some `[UNK]` tokens if you try putting in a word that isn't included in our rather small vocabularly but don't worry!"
   ]
  },
  {
   "cell_type": "markdown",
   "metadata": {},
   "source": [
    "Now that you feel comfortable with the vectorizer, let's loop through all of the sentences and tokenize each one of them! Save this list as a variable ```all_tokenized``` "
   ]
  },
  {
   "cell_type": "code",
   "execution_count": null,
   "metadata": {},
   "outputs": [],
   "source": [
    "pass  # YOUR CODE HERE"
   ]
  },
  {
   "cell_type": "markdown",
   "metadata": {},
   "source": [
    "You should now have a ```list``` of 372 tensors with each tensor being 1-dimensional tensor that is 56 long."
   ]
  },
  {
   "cell_type": "code",
   "execution_count": null,
   "metadata": {},
   "outputs": [],
   "source": [
    "from nbresult import ChallengeResult\n",
    "import tensorflow as tf\n",
    "\n",
    "result = ChallengeResult('tokenization',\n",
    "    list_length = len(all_tokenized),\n",
    "    contains_tensor = tf.is_tensor(all_tokenized[0]),\n",
    "    tensor_shape = all_tokenized[0].shape[0]\n",
    ")\n",
    "\n",
    "result.write()\n",
    "print(result.check())"
   ]
  },
  {
   "cell_type": "markdown",
   "metadata": {},
   "source": [
    "Now that we have all of our sentences as sequences of tokens, let's think hard about exactly what our X and y are going to be. 372 sentences does not seem like a lot of information to train our model on - it isn't and this is partly so that we can have faster training times for demonstration purposes. But we can also split our sentences down into smaller X, y pairs. \n",
    "\n",
    "Our model is supposed to predict the next word in a sentence, only knowing the words that it has up until that point. Below you can see the most obvious next-word training example."
   ]
  },
  {
   "cell_type": "markdown",
   "metadata": {},
   "source": [
    "<img src = \"https://wagon-public-datasets.s3.amazonaws.com/data-science-images/lectures/Transformers/gpt_scratch_1.png\">"
   ]
  },
  {
   "cell_type": "markdown",
   "metadata": {},
   "source": [
    "But there are many other sets of Xs and ys that we can get out of our sentence:"
   ]
  },
  {
   "cell_type": "markdown",
   "metadata": {},
   "source": [
    "<img src = \"https://wagon-public-datasets.s3.amazonaws.com/data-science-images/lectures/Transformers/quick_brown_examples.png\">"
   ]
  },
  {
   "cell_type": "markdown",
   "metadata": {},
   "source": [
    "From a sentence of 8 words, we have created 7 (ie. n - 1) X-y pairs! Is there a way we can think about implementing this more quickly? Let's consider replicating our sentence a total of 7 times."
   ]
  },
  {
   "cell_type": "markdown",
   "metadata": {},
   "source": [
    "<img src = https://wagon-public-datasets.s3.amazonaws.com/data-science-images/lectures/Transformers/quick_brown_examples_X.png>"
   ]
  },
  {
   "cell_type": "markdown",
   "metadata": {},
   "source": [
    "We're interested in just the parts underlined in red - what would be great would be if we could take a mask and ignore anything that wasn't desired. "
   ]
  },
  {
   "cell_type": "markdown",
   "metadata": {},
   "source": [
    "<img src = https://wagon-public-datasets.s3.amazonaws.com/data-science-images/lectures/Transformers/quick_brown_examples_masking.png>"
   ]
  },
  {
   "cell_type": "markdown",
   "metadata": {},
   "source": [
    "This is exactly what `tf.linalg.band()` (you saw this in the warm-up exercise!) is going to do for us!"
   ]
  },
  {
   "cell_type": "markdown",
   "metadata": {},
   "source": [
    "Finally let's think about our ys - we could take one from each row of our tensors, but there's a more efficient way:"
   ]
  },
  {
   "cell_type": "markdown",
   "metadata": {},
   "source": [
    "<img src = https://wagon-public-datasets.s3.amazonaws.com/data-science-images/lectures/Transformers/quick_brown_examples_y.png>"
   ]
  },
  {
   "cell_type": "markdown",
   "metadata": {},
   "source": [
    "So our ys will just be our sentence `sequence[1:]`"
   ]
  },
  {
   "cell_type": "markdown",
   "metadata": {},
   "source": [
    "Take this dummy tensor and perform the follow operations on it:\n",
    "1) Create a tensor of shape 55x56 that is just repeats of the original sequence with ```tf.tile()```. First, you'll need to use `tf.expand_dims` here so that you can `tile` in two dimensions."
   ]
  },
  {
   "cell_type": "code",
   "execution_count": null,
   "metadata": {},
   "outputs": [],
   "source": [
    "dummy_tensor = tf.range(0,56)"
   ]
  },
  {
   "cell_type": "code",
   "execution_count": null,
   "metadata": {},
   "outputs": [],
   "source": [
    "# Your code here"
   ]
  },
  {
   "cell_type": "markdown",
   "metadata": {},
   "source": [
    "2) Mask out the upper triangle of the tensor with ```tf.linalg.band_part()```.\n"
   ]
  },
  {
   "cell_type": "code",
   "execution_count": null,
   "metadata": {},
   "outputs": [],
   "source": [
    "# Your code here"
   ]
  },
  {
   "cell_type": "markdown",
   "metadata": {},
   "source": [
    "3) Create our corresponding ys from it."
   ]
  },
  {
   "cell_type": "code",
   "execution_count": null,
   "metadata": {},
   "outputs": [],
   "source": [
    "# Your code here"
   ]
  },
  {
   "cell_type": "markdown",
   "metadata": {},
   "source": [
    "When those steps work, fill out the function that will `return X, y` (where X is a tensor of shape (55,56) and y is of shape (55,)"
   ]
  },
  {
   "cell_type": "code",
   "execution_count": null,
   "metadata": {},
   "outputs": [],
   "source": [
    "def X_y_creator(sequence_tensor):\n",
    "    pass  # YOUR CODE HERE\n",
    "    return X_s, y_s"
   ]
  },
  {
   "cell_type": "markdown",
   "metadata": {},
   "source": [
    "You should be able to run the cell below without error: "
   ]
  },
  {
   "cell_type": "code",
   "execution_count": null,
   "metadata": {},
   "outputs": [],
   "source": [
    "X, y = X_y_creator(all_tokenized[0])"
   ]
  },
  {
   "cell_type": "code",
   "execution_count": null,
   "metadata": {},
   "outputs": [],
   "source": [
    "from nbresult import ChallengeResult\n",
    "\n",
    "\n",
    "result = ChallengeResult('xy_creater',\n",
    "    list_length = len(X_y_creator(all_tokenized[0])),\n",
    "    X_shape = X_y_creator(all_tokenized[0])[0].shape,\n",
    "    y_shape = X_y_creator(all_tokenized[0])[1].shape\n",
    ")\n",
    "\n",
    "result.write()\n",
    "print(result.check())"
   ]
  },
  {
   "cell_type": "markdown",
   "metadata": {},
   "source": [
    "Now apply this function to each element in our ```all_tokenized``` list."
   ]
  },
  {
   "cell_type": "code",
   "execution_count": null,
   "metadata": {},
   "outputs": [],
   "source": [
    "Xs = []\n",
    "ys = []\n",
    "for sequence in all_tokenized:\n",
    "    pass  # YOUR CODE HERE\n"
   ]
  },
  {
   "cell_type": "markdown",
   "metadata": {},
   "source": [
    "Now we just need to tidy up a little - we've been doing things quite inefficiently with all of our ```for``` loops but that's so we can understand every step of the process and apply things methodically. We have a list of tensors for our `X`s and a list of `y`s for our `y`s so let's use `tf.concat` to create our 20460 training examples (that got big quickly!). Call this new variable `X` with shape `(20460, 56)` shape and do the same concat process for your ys and save it in a variable `y` `(shape (20460,)`."
   ]
  },
  {
   "cell_type": "code",
   "execution_count": null,
   "metadata": {},
   "outputs": [],
   "source": [
    "pass  # YOUR CODE HERE"
   ]
  },
  {
   "cell_type": "markdown",
   "metadata": {},
   "source": [
    "There's one thing we haven't considered yet! A lot of our y values are just 0s because there is so much padding. Let's quickly create a boolean mask to figure out where our `ys` are __not__ zero and then only keep those examples from both our X and y."
   ]
  },
  {
   "cell_type": "code",
   "execution_count": null,
   "metadata": {},
   "outputs": [],
   "source": [
    "pass  # YOUR CODE HERE"
   ]
  },
  {
   "cell_type": "markdown",
   "metadata": {},
   "source": [
    "Phew! We've just dropped almost 5000 useless training exampels. Check your X and y against the tests below to make sure you've ended up with the right shapes and value for your X and y."
   ]
  },
  {
   "cell_type": "code",
   "execution_count": null,
   "metadata": {},
   "outputs": [],
   "source": [
    "from nbresult import ChallengeResult\n",
    "\n",
    "result = ChallengeResult('final_shapes',\n",
    "    X_shape = X.shape,\n",
    "    X_value = X[500][7],\n",
    "    y_shape = y.shape,\n",
    "    y_value = y[356],\n",
    "    zeroes = tf.math.reduce_sum(tf.cast(y==0, \"int32\"))\n",
    ")\n",
    "\n",
    "result.write()\n",
    "print(result.check())"
   ]
  },
  {
   "cell_type": "markdown",
   "metadata": {},
   "source": [
    "All sorted! That was a lot of work - and you'll only have to do this once - but it's crucial you understand what is going into our model and what is being predicted from the input."
   ]
  },
  {
   "cell_type": "markdown",
   "metadata": {},
   "source": [
    "## Modelling"
   ]
  },
  {
   "cell_type": "markdown",
   "metadata": {},
   "source": [
    "Now we get to the tricky part - building our model! As you will recall from the lecture - GPT style models are what we call \"decoder-only\". GPT decoder-only models work by leveraging the Transformer architecture, specifically the decoder component, to generate output sequences based on input sequences. Let's take a look at this diagram that shows the architecture of GPT-2:\n",
    "\n",
    "<img src = \"https://wagon-public-datasets.s3.amazonaws.com/data-science-images/lectures/Transformers/GPT2.png\" width=\"400px\">\n",
    "\n",
    "\n",
    "Focus your attention on the left side of the diagram and you can easily visualize the journey that our words (tokens) take along their path."
   ]
  },
  {
   "cell_type": "markdown",
   "metadata": {},
   "source": [
    "### Step 1. Positional Encoding and Word Embeddings: \n",
    "\n",
    "Our input to the model is the lovely tokens we've just prepared. We now need to do two things to our input tokens:  \n",
    "\n",
    "1) Give them a regular token embedding (as we did yesterday in our NLP tasks) and also give them a positional embedding. As a reminder, a token embedding means taking a token and embedding its meaning across however many ```embedding_dimensions``` we choose. \n",
    "\n",
    "\n",
    "2) Use positional encoding to clues about where each word is in the sentence to the model, and this positional encoding is simply added to the input embeddings. \n",
    "\n",
    "This means the model understands __both__ the relative positions of the tokens in the sequence __as well as__ what each word \"means\". Fortunately, we can use a `TokenAndPositionEmbedding()` layer from the `keras_nlp` library to do both of these at once! See the diagram below for a reminder on this step from the lecture: \n",
    "\n",
    "<img src =https://wagon-public-datasets.s3.amazonaws.com/data-science-images/lectures/Transformers/positional_encoding_sketch.png width=300px>"
   ]
  },
  {
   "cell_type": "markdown",
   "metadata": {},
   "source": [
    "### Step 2. The Transformer Block: \n",
    "\n",
    "Our embedded vectors now enter the Transformer block which is the __heart of the GPT architecture__. The attention mechanism here allows the model to attend to different positions in the input sequence when making predictions. The model learns the importance of each input token (now represented with its embeddings) by calculating attention weights, which reflect the token's relevance to other tokens in the sequence. \n",
    "\n",
    "This happens in a few steps - first we project our embedded vectors into Query, Key, and Value vectors. This can get a little more complex for multi-headed attention as you can see [here](https://towardsdatascience.com/transformers-explained-visually-part-3-multi-head-attention-deep-dive-1c1ff1024853) but once we have these matrices, we perform scaled dot-product attention by simply following this formula!\n",
    "\n",
    "<img src = \"https://wagon-public-datasets.s3.amazonaws.com/data-science-images/lectures/Transformers/key-query-value.png\">\n",
    "\n",
    "Once we've done that, and we have updated our embeddings, we pass it through the final layers of the Transformer Block which just add some Dropout and LayerNormalization. \n",
    "\n",
    "The upshot of all of this is that we end up with updated vectors on the other side of our Transformer Block - each vector will still be 512 long, but they'll contain more information about their importance with respect to the task at hand (in our case predicting the next word)."
   ]
  },
  {
   "cell_type": "markdown",
   "metadata": {},
   "source": [
    "### Step 3. Making a prediction: \n",
    "\n",
    "We then need to think very carefully about what our output is going to be. \n",
    "\n",
    "Remember - our `X` is all of the sentence up to a point and our `y` is the next word. What does this mean for prediction? Well essentially we have a massive classification problem in front of us. We need to pick the next word correctly, so how many choices do we have? \n",
    "\n",
    "Answer: as many words as we have in our vocabulary! Our output will be a Dense layer with as many neurons as we have words in our vocabulary. It will have a \"softmax\" activation function - which just means that it will essentially be predicting probabilities across all of our neurons that add to one. We want the next word to have a value as close to 1 as possible.\n",
    "\n",
    "View the the process below:\n",
    "\n",
    "<img src = \"https://wagon-public-datasets.s3.amazonaws.com/data-science-images/lectures/Transformers/prediction_png_flow.png\">"
   ]
  },
  {
   "cell_type": "markdown",
   "metadata": {},
   "source": [
    "What does this like for us in terms of code? Well here is our define model function with a few holes in it:\n",
    "    "
   ]
  },
  {
   "cell_type": "code",
   "execution_count": null,
   "metadata": {},
   "outputs": [],
   "source": [
    "from keras_nlp.layers import TokenAndPositionEmbedding\n",
    "from tensorflow.keras import layers\n",
    "\n",
    "def create_model(max_sequence_length, vocab_size, embedding_dimension):\n",
    "    \n",
    "    # 1. First up we define a layer that just grabs the inputs to our model\n",
    "    # We use the standard Input() layer and we know that each X going into\n",
    "    # our model is going to be 56 long!\n",
    "    inputs = layers.Input(shape=(max_len,), dtype=tf.int32)\n",
    "\n",
    "    # 2. Next we give our tokens Positional and Regular Embeddings which is done \n",
    "    # by a nicely built layer that takes these arguments! \n",
    "    x = TokenAndPositionEmbedding(vocab_size, max_sequence_length, embedding_dimension, mask_zero = True)(inputs)\n",
    "    \n",
    "    # 3. This part we are going to define in a moment - don't worry \n",
    "    # about it for now - we'll come back to it!\n",
    "    x = TransformerBlock(num_heads = 4, embed_dim = embedding_dimension, ff_dim = embedding_dimension * 4)(x)\n",
    "\n",
    "    \n",
    "    # 4. This is just a regular Dropout layer that you've \n",
    "    # seen earlier in the week that helps our model avoid overfitting\n",
    "    x = layers.Dropout(0.4)(x)\n",
    "    \n",
    "    \n",
    "    # 5. At this point in the model we'll have tensors with \n",
    "    # shape (batch_size, sequence_length, embedding_dimension) but \n",
    "    # we want to squish it down so we use tf.reduce_mean(). All \n",
    "    # this does is average elements across our sequence and \n",
    "    # squish them into a (batch_size, embedding_dimension) tensor. \n",
    "    # We could just have easily used a Flatten() layer or even\n",
    "    # tf.reduce_sum() but they perform fairly equally.\n",
    "    x = tf.reduce_mean(x, axis = 1)\n",
    "    \n",
    "    \n",
    "    # 6.\n",
    "    # Finally we just need to have our \"classification\" layer \n",
    "    # which needs to be as large as our vocabulary size\n",
    "    outputs = layers.Dense(vocab_size, activation='softmax')(x)\n",
    "    \n",
    "    \n",
    "    # Now we just just stick our model together with the Functional API\n",
    "    # and compile with \"adam\" for our optimizer and \n",
    "    # \"sparse_categorical_crossentropy\" to compute the loss \n",
    "    # between our predicted labels and our actual labels. \n",
    "    # We'll talk about perplexity a little later.\n",
    "    \n",
    "    model = tf.keras.Model(inputs=inputs, outputs=outputs)\n",
    "    model.compile(\n",
    "        optimizer=\"adam\", \n",
    "        loss='sparse_categorical_crossentropy',\n",
    "        metrics=[keras_nlp.metrics.Perplexity(), 'accuracy']\n",
    "    )\n",
    "    return model"
   ]
  },
  {
   "cell_type": "code",
   "execution_count": null,
   "metadata": {},
   "outputs": [],
   "source": [
    "create_model(50, 50, 50)"
   ]
  },
  {
   "cell_type": "markdown",
   "metadata": {},
   "source": [
    "If you run the cell above you will get an error! Why? Well, because we haven't defined many of our layers yet and we still need to implement out TransformerBlock- this is the part where all the magic happens!"
   ]
  },
  {
   "cell_type": "markdown",
   "metadata": {},
   "source": [
    "To code our Transformer Block - we'll need to code our attention mechanism first. Here's a reminder on what that looks like."
   ]
  },
  {
   "cell_type": "markdown",
   "metadata": {},
   "source": [
    "<img src = \"https://wagon-public-datasets.s3.amazonaws.com/data-science-images/lectures/Transformers/key-query-value.png\">"
   ]
  },
  {
   "cell_type": "markdown",
   "metadata": {},
   "source": [
    "All this layer is doing is projecting our embedded inputs into three matrices which are  - queries, keys, and values - and using the interaction between all three to give us better embeddings for our words. Let's break it down step by step:\n",
    "\n",
    "1. We multiply the Q matrix with a transposed version of the K matrix.\n",
    "2. We divide this by the square root of our model dimension\n",
    "3. We take the Softmax of final dimension of the matrix the to get the scaled scores\n",
    "4. We multiply these softmax scores by the V matrix"
   ]
  },
  {
   "cell_type": "code",
   "execution_count": null,
   "metadata": {},
   "outputs": [],
   "source": [
    "def coded_attention(query, key, value):\n",
    "        # Step 1: Matrix multiply the query with the transpose of the key \n",
    "        pass  # YOUR CODE HERE\n",
    "        \n",
    "        # Step 2: Divide this matrix by the square root of the hidden dimension\n",
    "        # In our case this dimension will be 512 (with the square root being 22.6). \n",
    "        # You will have to use tf.cast(22.6, tf.float32) so that the two matrices can interact \n",
    "        \n",
    "        pass  # YOUR CODE HERE\n",
    "        \n",
    "        # Step 3:\n",
    "        # Compute the softmax_scores - use tf.nn.softmax(scaled_score, axis = ?) \n",
    "        # Think about what dimension we should be using our softmax along -\n",
    "        # it'll need to be our last dimension!\n",
    "        pass  # YOUR CODE HERE\n",
    "        \n",
    "        # Step 4: \n",
    "        # Matrix multiply the weights matrix with the value matrix\n",
    "        # and set this to be your \"output\"\n",
    "        pass  # YOUR CODE HERE\n",
    "\n",
    "        \n",
    "        # Return *both* the output and the softmax_scores as a tuple\n",
    "        return output, softmax_scores"
   ]
  },
  {
   "cell_type": "markdown",
   "metadata": {},
   "source": [
    "Run the cell below to test your function with some dummy tensors:\n",
    "    "
   ]
  },
  {
   "cell_type": "code",
   "execution_count": null,
   "metadata": {},
   "outputs": [],
   "source": [
    "# Dummy tensor for query\n",
    "example_query = tf.constant([[0.1, 0.2],\n",
    "                     [0.3, 0.4]])\n",
    "\n",
    "# Dummy tensor for key\n",
    "example_key = tf.constant([[0.5, 0.6],\n",
    "                   [0.7, 0.8]])\n",
    "\n",
    "# Dummy tensor for value\n",
    "example_value = tf.constant([[0.9, 1.0],\n",
    "                     [1.1, 1.2]])\n",
    "# Test your function\n",
    "coded_attention(example_query, example_key, example_value)"
   ]
  },
  {
   "cell_type": "code",
   "execution_count": null,
   "metadata": {},
   "outputs": [],
   "source": [
    "from nbresult import ChallengeResult\n",
    "\n",
    "\n",
    "example_query = tf.constant([[0.1, 0.2],\n",
    "                     [0.3, 0.4]])\n",
    "\n",
    "\n",
    "example_key = tf.constant([[0.5, 0.6],\n",
    "                   [0.7, 0.8]])\n",
    "\n",
    "\n",
    "example_value = tf.constant([[0.9, 1.0],\n",
    "                     [1.1, 1.2]])\n",
    "output = coded_attention(example_query, example_key, example_value)\n",
    "\n",
    "result = ChallengeResult('attention',\n",
    "    len_output = len(output),\n",
    "    output_shape = output[0].shape,\n",
    "    output_value = output[0][-1]\n",
    ")\n",
    "\n",
    "result.write()\n",
    "print(result.check())"
   ]
  },
  {
   "cell_type": "markdown",
   "metadata": {},
   "source": [
    "Now that's run, we can fold our hand-coded attention into our larger MultiAttentionHead and the - even larger - TransformerBlock. \n",
    "\n",
    "__If you want to to go through and understand each step of the block below, do so later__, but for now you can run the cell below to define the architecture then move on down - we're almost there!"
   ]
  },
  {
   "cell_type": "code",
   "execution_count": null,
   "metadata": {},
   "outputs": [],
   "source": [
    "from tensorflow.keras import layers, Model, Sequential\n",
    "import keras_nlp\n",
    "\n",
    "class MultiHeadAttention(layers.Layer):\n",
    "    def __init__(self, embed_dim, num_heads):\n",
    "        super(MultiHeadAttention, self).__init__()\n",
    "        self.num_heads = num_heads\n",
    "        self.embed_dim = embed_dim\n",
    "        self.projection_dim = embed_dim // num_heads\n",
    "        self.query_dense = layers.Dense(embed_dim)\n",
    "        self.key_dense = layers.Dense(embed_dim)\n",
    "        self.value_dense = layers.Dense(embed_dim)\n",
    "        self.combine_heads = layers.Dense(embed_dim)\n",
    "\n",
    "    def attention(self, query, key, value):\n",
    "        # Your coded attention function goes here\n",
    "        return coded_attention(query, key, value)\n",
    "\n",
    "    def separate_heads(self, x, batch_size):\n",
    "        x = tf.reshape(x, (batch_size, 56, self.num_heads, self.projection_dim))\n",
    "        return tf.transpose(x, perm=[0, 2, 1, 3])\n",
    "\n",
    "    def call(self, inputs):\n",
    "        # Here, we \"project\" into long query, key, value vectors\n",
    "        query = self.query_dense(inputs)\n",
    "        key = self.key_dense(inputs)\n",
    "        value = self.value_dense(inputs)\n",
    "        batch_size = tf.shape(query)[0]\n",
    "\n",
    "        # We rearrange the projections for each head\n",
    "        query = self.separate_heads(query, batch_size)\n",
    "        key = self.separate_heads(key, batch_size)\n",
    "        value = self.separate_heads(value, batch_size)\n",
    "\n",
    "        # We perform attention on our QKV for our heads\n",
    "        attention, weights = self.attention(query, key, value)\n",
    "        attention = tf.transpose(attention, perm=[0, 2, 1, 3])\n",
    "        concat_attention = tf.reshape(attention, (batch_size, -1, self.embed_dim))\n",
    "        output = self.combine_heads(concat_attention)\n",
    "        return output\n",
    "\n",
    "class TransformerBlock(layers.Layer):\n",
    "    def __init__(self, embed_dim, num_heads, ff_dim, rate=0.1):\n",
    "        super(TransformerBlock, self).__init__()\n",
    "        self.attention = MultiHeadAttention(embed_dim, num_heads)\n",
    "        self.ffn = Sequential(\n",
    "            [layers.Dense(ff_dim, activation=\"relu\"), \n",
    "             layers.Dense(embed_dim)]\n",
    "        )\n",
    "        self.layernorm1 = layers.LayerNormalization(epsilon=1e-6)\n",
    "        self.layernorm2 = layers.LayerNormalization(epsilon=1e-6)\n",
    "        self.dropout1 = layers.Dropout(rate)\n",
    "        self.dropout2 = layers.Dropout(rate)\n",
    "\n",
    "    def call(self, inputs):\n",
    "        attention_output = self.attention(inputs)\n",
    "        attention_output = self.dropout1(attention_output)\n",
    "        out1 = self.layernorm1(inputs + attention_output)\n",
    "        ffn_output = self.ffn(out1)\n",
    "        ffn_output = self.dropout2(ffn_output)\n",
    "        return self.layernorm2(out1 + ffn_output)\n"
   ]
  },
  {
   "cell_type": "markdown",
   "metadata": {},
   "source": [
    "All we need to do now is put it all together. The function below will stitch everything together for us! It's really only 5 layers (although - as we've just seen - one of them is quite complicated!)"
   ]
  },
  {
   "cell_type": "code",
   "execution_count": null,
   "metadata": {},
   "outputs": [],
   "source": [
    "def create_model(max_sequence_length, vocab_size, embedding_dimension):\n",
    "       \n",
    "    inputs = layers.Input(shape=(max_len,), dtype=tf.int32)\n",
    "    x = keras_nlp.layers.TokenAndPositionEmbedding(vocab_size, max_sequence_length, embedding_dimension, mask_zero = True)(inputs)\n",
    "    x = TransformerBlock(num_heads = 4, embed_dim = embedding_dimension, ff_dim = embedding_dimension)(x)\n",
    "    x = layers.Dropout(0.4)(x)\n",
    "    x = tf.reduce_mean(x, axis = 1)\n",
    "    outputs = layers.Dense(vocab_size, activation='softmax')(x)\n",
    "    model = tf.keras.Model(inputs=inputs, outputs=outputs)\n",
    "    model.compile(\n",
    "        optimizer=\"adam\", \n",
    "        loss='sparse_categorical_crossentropy',\n",
    "        metrics=[keras_nlp.metrics.Perplexity(), 'accuracy']\n",
    "    )\n",
    "    return model"
   ]
  },
  {
   "cell_type": "markdown",
   "metadata": {},
   "source": [
    "We just need to instantiate our model with:\n",
    "- `max_sequence_length` = Our longest sequence length\n",
    "- `vocab_size` = The number of unique words we had in our vocabulary\n",
    "- `embedding_dimension` = 512 (512 should work well for a dataset of this size)"
   ]
  },
  {
   "cell_type": "code",
   "execution_count": null,
   "metadata": {},
   "outputs": [],
   "source": [
    "pass  # YOUR CODE HERE"
   ]
  },
  {
   "cell_type": "markdown",
   "metadata": {},
   "source": [
    "Take a look at your model summary. "
   ]
  },
  {
   "cell_type": "code",
   "execution_count": null,
   "metadata": {},
   "outputs": [],
   "source": [
    "pass  # YOUR CODE HERE"
   ]
  },
  {
   "cell_type": "code",
   "execution_count": null,
   "metadata": {},
   "outputs": [],
   "source": [
    "from nbresult import ChallengeResult\n",
    "\n",
    "model = create_model(56, 1150, 512)\n",
    "\n",
    "result = ChallengeResult('model',\n",
    "    params = model.count_params()\n",
    ")\n",
    "\n",
    "result.write()\n",
    "print(result.check())"
   ]
  },
  {
   "cell_type": "markdown",
   "metadata": {},
   "source": [
    "All that is left to do now is fit your model with our `X` and `y`. A batch size of 32 should be good and 20 epochs. Now you can just sip on some tea, read an explanation on perplexity below, and wait while our model works its magic! "
   ]
  },
  {
   "cell_type": "code",
   "execution_count": null,
   "metadata": {},
   "outputs": [],
   "source": [
    "pass  # YOUR CODE HERE\n"
   ]
  },
  {
   "cell_type": "markdown",
   "metadata": {},
   "source": [
    "<details> \n",
    "    <summary> Click HERE for a Perplexity Explanation</summary>\n",
    "<br>\n",
    "Perplexity is a metric commonly used in the context of Language Models to evaluate the quality and performance of the model in predicting the next word or token in a sequence of words. It measures how well the language model assigns probabilities to a given sequence of words.\n",
    "\n",
    "Mathematically, perplexity is calculated using the concept of cross-entropy. The perplexity score is the exponential of the average cross-entropy per word in a given dataset. The formula for perplexity is as follows:\n",
    "\n",
    "$$\n",
    "\\text{Perplexity} = \\exp\\left(-\\frac{{\\sum_{{i=1}}^{{N}} \\log(p(w_i))}}{{N}}\\right)\n",
    "$$\n",
    "\n",
    "where $N$ represents the total number of words in the dataset, and $(p(w_i))$ is the probability assigned by the language model to the $(i)$-th word in the sequence.\n",
    "\n",
    "The formula involves taking the logarithm of the model's predicted probabilities for each word in the sequence and summing them. Dividing this sum by the total number of words $(N)$ and then taking the exponential gives the perplexity score.\n",
    "\n",
    "A lower perplexity value indicates that the language model is more confident and accurate in its predictions, as it assigns higher probabilities to the true words in the dataset. Conversely, a higher perplexity score suggests that the model is more uncertain and less accurate in its predictions.\n",
    "\n",
    "Perplexity is often used to compare different language models or to track the progress of a model during training. Lower perplexity values are generally desired, indicating better language modeling performance.</details>\n"
   ]
  },
  {
   "cell_type": "markdown",
   "metadata": {},
   "source": [
    "### Using our model"
   ]
  },
  {
   "cell_type": "markdown",
   "metadata": {},
   "source": [
    "You'll remember that GPT-style models work simply by taking an input sequence, predicting the next word, adding it to our existing input sequence and then predicting again and again!"
   ]
  },
  {
   "cell_type": "markdown",
   "metadata": {},
   "source": [
    "We now want to write a generate function that takes as its input the starter_string. \n",
    "\n",
    "Then - in a for loop of ``range(max_len - len(starter_string.split()))``:\n",
    "\n",
    "1. We use our ```vectorize_layer``` to convert it to a ```token_tensor```\n",
    "2. Use ```model.predict(token_tensor)``` to get out a tensor of size vocab_size out of our model (you'll need to use ```tf.expand_dims(token_tensor, 0)``` so that it looks like the right input size for our model!\n",
    "3. Use ```tf.argmax()``` to find the index of the most probable (largest number) word out (this is effectively a \"greedy\" algorithm as we just take the most likely word at any given step.\n",
    "4. Use our ```index_lookup``` dictionary from earlier to convert that index from a number back into a word\n",
    "5. Add that word to our input string and repeat UNLESS\n",
    "\n",
    "Two catches: \n",
    "\n",
    "1) If we predict the word \"eos\" that means our model has predicted the end of the sentence so we ```return``` our ```starter_string``` in its current form. \n",
    "\n",
    "2) If the length of our string (when split on whitespace) is 55 then we also ```return``` our ```starter_string``` in its current form. \n",
    "\n",
    "N.B. Make sure you add whitespace when you add the word to your sequence!"
   ]
  },
  {
   "cell_type": "code",
   "execution_count": null,
   "metadata": {},
   "outputs": [],
   "source": [
    "def generate(starter_string):\n",
    "    pass  # YOUR CODE HERE\n"
   ]
  },
  {
   "cell_type": "code",
   "execution_count": null,
   "metadata": {},
   "outputs": [],
   "source": [
    "generate(\"I need\")"
   ]
  },
  {
   "cell_type": "markdown",
   "metadata": {},
   "source": [
    "Congratulations!!! You've just built your own GPT model from first principles 💪\n",
    "\n",
    "Naturally there are __much__ more efficient ways to do what we've just done - you will almost never end up writing your own Transformer block, attention mechanism or even full GPT model from scratch. HuggingFace abstracts so much of the difficult coding away from us, which is why fine-tuning existing models is much more effective. \n",
    "\n",
    "The dataset we've been working with has been very, very small and we have done very simplistic tokenization too (each word is currently assigned its own unique token and punctuation is kept in as well, but if you'd like to try working with some more messy data, you can tidy up your code into Python files and then repeat your steps on the real data found in these 10000 StackOverflow answers [here](https://wagon-public-datasets.s3.amazonaws.com/answers.csv) and build a more complex generator."
   ]
  }
 ],
 "metadata": {
  "kernelspec": {
   "display_name": "Python 3",
   "language": "python",
   "name": "python3"
  }
 },
 "nbformat": 4,
 "nbformat_minor": 5
}
